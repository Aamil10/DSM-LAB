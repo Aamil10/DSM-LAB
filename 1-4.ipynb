{
 "cells": [
  {
   "cell_type": "code",
   "execution_count": 1,
   "id": "b4e7bf6d",
   "metadata": {},
   "outputs": [
    {
     "name": "stdout",
     "output_type": "stream",
     "text": [
      "Element wise multiplication [ 3  8 15]\n"
     ]
    }
   ],
   "source": [
    "\n",
    "import numpy as np\n",
    "\n",
    "a=np.array([1,2,3])\n",
    "b=np.array([3,4,5])\n",
    "result=a*b\n",
    "print(\"Element wise multiplication\",result)"
   ]
  },
  {
   "cell_type": "code",
   "execution_count": 2,
   "id": "e9224493",
   "metadata": {},
   "outputs": [
    {
     "name": "stdout",
     "output_type": "stream",
     "text": [
      "Enter a number: 5\n",
      "Enter a number: 10\n",
      "1.Addition\n",
      "2.Substraction\n",
      "3.Multiplication\n",
      "4.Division\n",
      "Enter your choice: 1\n",
      "15\n"
     ]
    }
   ],
   "source": [
    "def calculator():\n",
    "    a = int(input(\"Enter a number: \"))\n",
    "    b = int(input(\"Enter a number: \"))\n",
    "    print(\"1.Addition\")\n",
    "    print(\"2.Substraction\")\n",
    "    print(\"3.Multiplication\")\n",
    "    print(\"4.Division\")\n",
    "    choice = int(input(\"Enter your choice: \"))\n",
    "    if(choice == 1):\n",
    "        print(a+b)\n",
    "    elif(choice == 2):\n",
    "        print(a-b)\n",
    "    elif(choice == 3):\n",
    "        print(a*b)\n",
    "    elif(choice == 4):\n",
    "        print(a/b)\n",
    "    else:\n",
    "        print(\"Wrong choice\")\n",
    "        \n",
    "calculator()"
   ]
  },
  {
   "cell_type": "code",
   "execution_count": 3,
   "id": "67db600d",
   "metadata": {},
   "outputs": [
    {
     "name": "stdout",
     "output_type": "stream",
     "text": [
      "Equal\n"
     ]
    }
   ],
   "source": [
    "def equal(a,b):\n",
    "    if len(a) != len(b):\n",
    "        return False\n",
    "    for i in range(len(a)):\n",
    "        if a[i] != b[i]:\n",
    "            return False\n",
    "        return True\n",
    "a=[1,2,3,4]\n",
    "b=[1,2,3,4]\n",
    "if equal(a,b):\n",
    "    print(\"Equal\")\n",
    "else:\n",
    "    print(\"Not Equal\")"
   ]
  },
  {
   "cell_type": "code",
   "execution_count": 4,
   "id": "9dfa70a9",
   "metadata": {},
   "outputs": [
    {
     "data": {
      "text/plain": [
       "array([[1., 0., 0.],\n",
       "       [0., 1., 0.],\n",
       "       [0., 0., 1.]])"
      ]
     },
     "execution_count": 4,
     "metadata": {},
     "output_type": "execute_result"
    }
   ],
   "source": [
    "import numpy as np\n",
    "identify_matrix = np.identity(3)\n",
    "identify_matrix"
   ]
  },
  {
   "cell_type": "code",
   "execution_count": null,
   "id": "68940fa1",
   "metadata": {},
   "outputs": [],
   "source": []
  }
 ],
 "metadata": {
  "kernelspec": {
   "display_name": "Python 3 (ipykernel)",
   "language": "python",
   "name": "python3"
  },
  "language_info": {
   "codemirror_mode": {
    "name": "ipython",
    "version": 3
   },
   "file_extension": ".py",
   "mimetype": "text/x-python",
   "name": "python",
   "nbconvert_exporter": "python",
   "pygments_lexer": "ipython3",
   "version": "3.9.7"
  }
 },
 "nbformat": 4,
 "nbformat_minor": 5
}
