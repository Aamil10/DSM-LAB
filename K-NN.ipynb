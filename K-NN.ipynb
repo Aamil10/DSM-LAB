from sklearn.model_selection import train_test_split
from sklearn.neighbors import KNeighborsClassifier
from sklearn.metrics import accuracy_score
X = [
    [2, 9],
    [1, 6],
    [3, 7],
    [5, 5],
    [6, 6],
    [7, 3],
    [8, 4],
    [9, 2]
]

y = [0, 0, 0, 1, 1, 1, 1, 1]
X_train, X_test, y_train, y_test = train_test_split(X,y, test_size=0.25, random_state=42)
knn = KNeighborsClassifier(n_neighbors=3)
knn.fit(X_train, y_train)
y_pred = knn.predict(X_test)
print("ACcuracy: ", accuracy_score(y_test, y_pred))
new_student = [[4, 8]]
prediction = knn.predict(new_student)
print("Prediction for new student: ", "Pass" if prediction[0] == 1 else "fail")



# Import libraries
from sklearn.model_selection import train_test_split
from sklearn.neighbors import KNeighborsClassifier
from sklearn.metrics import accuracy_score
import matplotlib.pyplot as plt

# Dataset: [weight, texture]
# texture: 0 = Smooth, 1 = Rough
X = [
    [150, 0],  # Apple
    [170, 0],  # Apple
    [140, 0],  # Apple
    [130, 0],  # Apple
    [180, 1],  # Orange
    [160, 1],  # Orange
    [200, 1],  # Orange
    [210, 1]   # Orange
]

# Labels: 0 = Apple, 1 = Orange
y = [0, 0, 0, 0, 1, 1, 1, 1]

# Split dataset
X_train, X_test, y_train, y_test = train_test_split(X, y, test_size=0.25, random_state=42)

# Train k-NN model
knn = KNeighborsClassifier(n_neighbors=3)
knn.fit(X_train, y_train)

# Accuracy
y_pred = knn.predict(X_test)
print("Accuracy:", accuracy_score(y_test, y_pred))

# Predict a new fruit
new_fruit = [[155, 0]]  # 155g and smooth texture
prediction = knn.predict(new_fruit)
print("Prediction for new fruit:", "Orange" if prediction[0] == 1 else "Apple")



