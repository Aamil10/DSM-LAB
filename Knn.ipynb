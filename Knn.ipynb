{
 "cells": [
  {
   "cell_type": "code",
   "execution_count": 2,
   "id": "39266cb3",
   "metadata": {},
   "outputs": [
    {
     "name": "stdout",
     "output_type": "stream",
     "text": [
      "ACcuracy:  1.0\n",
      "Prediction for new student:  fail\n"
     ]
    }
   ],
   "source": [
    "from sklearn.model_selection import train_test_split\n",
    "from sklearn.neighbors import KNeighborsClassifier\n",
    "from sklearn.metrics import accuracy_score\n",
    "X = [\n",
    "    [2, 9],\n",
    "    [1, 6],\n",
    "    [3, 7],\n",
    "    [5, 5],\n",
    "    [6, 6],\n",
    "    [7, 3],\n",
    "    [8, 4],\n",
    "    [9, 2]\n",
    "]\n",
    "\n",
    "y = [0, 0, 0, 1, 1, 1, 1, 1]\n",
    "X_train, X_test, y_train, y_test = train_test_split(X,y, test_size=0.25, random_state=42)\n",
    "knn = KNeighborsClassifier(n_neighbors=3)\n",
    "knn.fit(X_train, y_train)\n",
    "y_pred = knn.predict(X_test)\n",
    "print(\"ACcuracy: \", accuracy_score(y_test, y_pred))\n",
    "new_student = [[4, 8]]\n",
    "prediction = knn.predict(new_student)\n",
    "print(\"Prediction for new student: \", \"Pass\" if prediction[0] == 1 else \"fail\")"
   ]
  },
  {
   "cell_type": "code",
   "execution_count": 3,
   "id": "86b79805",
   "metadata": {},
   "outputs": [
    {
     "name": "stdout",
     "output_type": "stream",
     "text": [
      "Accuracy: 0.5\n",
      "Prediction for new fruit: Apple\n"
     ]
    }
   ],
   "source": [
    "# Import libraries\n",
    "from sklearn.model_selection import train_test_split\n",
    "from sklearn.neighbors import KNeighborsClassifier\n",
    "from sklearn.metrics import accuracy_score\n",
    "import matplotlib.pyplot as plt\n",
    "\n",
    "# Dataset: [weight, texture]\n",
    "# texture: 0 = Smooth, 1 = Rough\n",
    "X = [\n",
    "    [150, 0],  # Apple\n",
    "    [170, 0],  # Apple\n",
    "    [140, 0],  # Apple\n",
    "    [130, 0],  # Apple\n",
    "    [180, 1],  # Orange\n",
    "    [160, 1],  # Orange\n",
    "    [200, 1],  # Orange\n",
    "    [210, 1]   # Orange\n",
    "]\n",
    "\n",
    "# Labels: 0 = Apple, 1 = Orange\n",
    "y = [0, 0, 0, 0, 1, 1, 1, 1]\n",
    "\n",
    "# Split dataset\n",
    "X_train, X_test, y_train, y_test = train_test_split(X, y, test_size=0.25, random_state=42)\n",
    "\n",
    "# Train k-NN model\n",
    "knn = KNeighborsClassifier(n_neighbors=3)\n",
    "knn.fit(X_train, y_train)\n",
    "\n",
    "# Accuracy\n",
    "y_pred = knn.predict(X_test)\n",
    "print(\"Accuracy:\", accuracy_score(y_test, y_pred))\n",
    "\n",
    "# Predict a new fruit\n",
    "new_fruit = [[155, 0]]  # 155g and smooth texture\n",
    "prediction = knn.predict(new_fruit)\n",
    "print(\"Prediction for new fruit:\", \"Orange\" if prediction[0] == 1 else \"Apple\")"
   ]
  },
  {
   "cell_type": "code",
   "execution_count": null,
   "id": "6766e42c",
   "metadata": {},
   "outputs": [],
   "source": []
  }
 ],
 "metadata": {
  "kernelspec": {
   "display_name": "Python 3 (ipykernel)",
   "language": "python",
   "name": "python3"
  },
  "language_info": {
   "codemirror_mode": {
    "name": "ipython",
    "version": 3
   },
   "file_extension": ".py",
   "mimetype": "text/x-python",
   "name": "python",
   "nbconvert_exporter": "python",
   "pygments_lexer": "ipython3",
   "version": "3.9.7"
  }
 },
 "nbformat": 4,
 "nbformat_minor": 5
}
